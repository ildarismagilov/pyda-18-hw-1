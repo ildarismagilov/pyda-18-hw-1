{
 "cells": [
  {
   "cell_type": "code",
   "execution_count": null,
   "metadata": {},
   "outputs": [],
   "source": []
  },
  {
   "cell_type": "code",
   "execution_count": null,
   "metadata": {},
   "outputs": [],
   "source": [
    "##    Задача 1\n",
    "##   Даны 2 переменных, в которых хранятся строки произвольной длины: \n",
    "##   phrase_1 и phrase_2.\n",
    "##   Напишите код, который проверяет какая из этих строк длиннее.\n",
    "\n",
    "## Решение:\n",
    "phrase_1 = input(\"Введите фразу 1:  \") # для ввода фраз произвольной длины использую функцию input\n",
    "phrase_2 = input(\"Введите фразу 2:  \")\n",
    "print ('Результат:')\n",
    "if    len(phrase_1) > len(phrase_2):   # оператором if проверяю на верность сценарий: фраза 1 > фразы 2\n",
    "     print('Фраза 1 длиннее фразы 2')\n",
    "elif    len(phrase_1) < len(phrase_2): # оператором elif проверяю на верность сценарий: фраза 1 < фразы 2\n",
    "     print('Фраза 2 длиннее фразы 1')    \n",
    "else:                                  # использую оператор else если в.у. сценарии не сработали.\n",
    "     print('Фразы равной длины') "
   ]
  },
  {
   "cell_type": "code",
   "execution_count": null,
   "metadata": {},
   "outputs": [],
   "source": []
  },
  {
   "cell_type": "code",
   "execution_count": null,
   "metadata": {},
   "outputs": [],
   "source": [
    "## задача 2\n",
    "## Дана переменная, в которой хранится четырехзначное число (год). Необходимо написать программу, которая выведет, \n",
    "## является ли данный год високосным или обычным.\n",
    "## Решение:\n",
    "## 1.Определяю при каких условиях год будет високосным:\n",
    "##   Год является високосным, если он делится на 4 без остатка,но не делится на 100, а также если он делится на  400  \n",
    "## 2.С помощью операторов  -and, - or, - not определяю как это условие будет выглядеть в коде, :\n",
    "##   ((year % 4 == 0) and not (year % 100 == 0)) or (year % 400 == 0)\n",
    "## 3.Пишу программу где с помощью операторов if-else провожу проверку является ли год високосным или нет.\n",
    "\n",
    "year = int(input())\n",
    "if ((year % 4 == 0) and not (year % 100 == 0)) or (year % 400 == 0):\n",
    "    print(\"Високосный\")\n",
    "else:    \n",
    "    print(\"Обычный\")"
   ]
  },
  {
   "cell_type": "code",
   "execution_count": null,
   "metadata": {},
   "outputs": [],
   "source": []
  },
  {
   "cell_type": "code",
   "execution_count": null,
   "metadata": {},
   "outputs": [],
   "source": [
    "## Задача № 3\n",
    "## Необходимо написать программу, которая будет запрашивать у пользователя месяц и дату рождения и выводить соответствующий\n",
    "##  знак зодиака.\n",
    "## Решение: \n",
    "## Определяю диапазон месяцев и дат - соответствующих 12-ти  знакам Зодиака\n",
    "## Составляю код для каждого диапазона с помощью операторов -and и - or:\n",
    "## (date>=... and date<=.... and month==....) or( month==.... and date>=.... and date<=....)\n",
    "## с помощью операторов -if, - elif составляю конструкцию из 12 элементов кода, с выводом на -print,\n",
    "## для ввода даты  использую - int(input(\".....\")), для ввода месяца использую - input(\".....\")\n",
    "## при соответствии введенных данных (дата и месяц) одному из диапазонов вывожу результат -print(\"Знак зодиака:....\")\n",
    "## * Примечание: При расчетах были взятаы усредненно принятые даты, т.к.в разных источниках знаки Зодиака \n",
    "## не совпадают по датам - причина небесная сфера имеет две разные системы координат - созвездия и знаки зодиака.\n",
    "\n",
    "\n",
    "date=int(input(\"Введите день:\"))\n",
    "month= input(\"Введите месяц:\")\n",
    "\n",
    "if (date>=21 and date<=31 and month==\"Март\") or( month==\"Апрель\" and date>=1 and date<=20):\n",
    "    print(\"Знак зодиака:Овен\")\n",
    "\n",
    "elif (date>=21 and date<=30 and month==\"Апрель\") or( month==\"Май\" and date>=1 and date<=21):\n",
    "    print(\"Знак зодиака:Телец\")\n",
    "    \n",
    "elif (date>=22 and date<=31 and month==\"Май\") or( month==\"Июнь\" and date>=1 and date<=21):\n",
    "    print(\"Знак зодиака:Близнецы\")\n",
    "\n",
    "elif (date>=22 and date<=30 and month==\"Июнь\") or( month==\"Июль\" and date>=1 and date<=23):\n",
    "    print(\"Знак зодиака:Рак\")\n",
    "\n",
    "elif (date>=24 and date<=31 and month==\"Июль\") or( month==\"Август\" and date>=1 and date<=23):\n",
    "    print(\"Знак зодиака:Лев\")   \n",
    "\n",
    "elif (date>=24 and date<=31 and month==\"Август\") or( month==\"Сентябрь\" and date>=1 and date<=23):\n",
    "    print(\"Знак зодиака:Дева\")\n",
    "\n",
    "elif (date>=24 and date<=30 and month==\"Сентябрь\") or( month==\"Октябрь\" and date>=1 and date<=23):\n",
    "    print(\"Знак зодиака:Весы\")\n",
    "\n",
    "elif (date>=24 and date<=31 and month==\"Октябрь\") or( month==\"Ноябрь\" and date>=1 and date<=22):\n",
    "    print(\"Знак зодиака:Скорпион\")    \n",
    "\n",
    "elif (date>=23 and date<=30 and month==\"Ноябрь\") or( month==\"Декабрь\" and date>=1 and date<=21):\n",
    "    print(\"Знак зодиака:Стрелец\")    \n",
    "\n",
    "elif (date>=22 and date<=31 and month==\"Декабрь\") or( month==\"Январь\" and date>=1 and date<=20):\n",
    "    print(\"Знак зодиака:Козерог\")\n",
    "\n",
    "elif (date>=21 and date<=31 and month==\"Январь\") or( month==\"Февраль\" and date>=1 and date<=19):\n",
    "    print(\"Знак зодиака:Водолей\")\n",
    "\n",
    "elif (date>=20 and date<=29 and month==\"Февраль\") or( month==\"Март\" and date>=1 and date<=20):\n",
    "    print(\"Знак зодиака:Рыбы\")   \n"
   ]
  },
  {
   "cell_type": "code",
   "execution_count": null,
   "metadata": {},
   "outputs": [],
   "source": []
  },
  {
   "cell_type": "code",
   "execution_count": null,
   "metadata": {},
   "outputs": [],
   "source": [
    "## Задача № 4\n",
    "## Вам нужно написать программу для подбора упаковок по размерам товара. Размеры хранятся в переменных (в сантиметрах):\n",
    "## Используйте следующие правила:\n",
    "## если каждое из трех измерений менее 15 сантиметров, то выведите на экран “Коробка №1”;\n",
    "## если хотя бы одно из измерений больше 15 сантиметров, но менее 50 сантиметров, то выводите “Коробка №2”;\n",
    "## если длина товара больше 2 метров, то выводите “Упаковка для лыж”;\n",
    "## во всех остальных случаях выводите “Стандартная коробка №3”.\n",
    "\n",
    "width = int(input())\n",
    "length = int(input())\n",
    "height = int(input())\n",
    "\n",
    "if (width < 15) and (length < 15) and (height < 15): # ввод диапазонов данных по первому правилу\n",
    "    print (\"Коробка №1\")\n",
    "    \n",
    "elif (15 < width < 50) and (15 < length < 50) and (15 < height < 50): # ввод диапазонов данных по второму правилу\n",
    "    print (\"Коробка №2\")\n",
    "    \n",
    "elif (width > 0) and (length > 200) and (height > 0): # ввод диапазонов данных для третьего правила \n",
    "    print (\"Коробка для лыж\")\n",
    "else:  \n",
    "    print (\"Стандартная коробка №3\") # вывод на печать если первые три правила не сработали"
   ]
  },
  {
   "cell_type": "code",
   "execution_count": null,
   "metadata": {},
   "outputs": [],
   "source": []
  },
  {
   "cell_type": "code",
   "execution_count": null,
   "metadata": {},
   "outputs": [],
   "source": []
  }
 ],
 "metadata": {
  "kernelspec": {
   "display_name": "Python 3",
   "language": "python",
   "name": "python3"
  },
  "language_info": {
   "codemirror_mode": {
    "name": "ipython",
    "version": 3
   },
   "file_extension": ".py",
   "mimetype": "text/x-python",
   "name": "python",
   "nbconvert_exporter": "python",
   "pygments_lexer": "ipython3",
   "version": "3.8.5"
  }
 },
 "nbformat": 4,
 "nbformat_minor": 4
}
