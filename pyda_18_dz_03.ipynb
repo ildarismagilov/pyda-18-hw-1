{
 "cells": [
  {
   "cell_type": "code",
   "execution_count": null,
   "metadata": {},
   "outputs": [],
   "source": [
    "#Задание 1\n",
    "#Дана переменная, в которой хранится словарь, содержащий гео-метки для каждого пользователя \n",
    "#(пример структуры данных приведен ниже). Вам необходимо написать программу, которая выведет на экран множество\n",
    "#уникальных гео-меток всех пользователей.\n"
   ]
  },
  {
   "cell_type": "code",
   "execution_count": null,
   "metadata": {},
   "outputs": [],
   "source": [
    "# Решение:\n",
    "ids = {'user1': [213, 213, 213, 15, 213],\n",
    "'user2': [54, 54, 119, 119, 119],\n",
    "'user3': [213, 98, 98, 35]}\n",
    "\n",
    "geo_mark=[]   # создаю \"пустой\" список \n",
    " \n",
    "for geo in ids.values():      # циклом прохожу все значения в словаре \n",
    "    geo_mark += geo           # ввожу значения словаря в мой список\n",
    "print (set (geo_mark))        # перевожу список в множество и печатаю\n"
   ]
  },
  {
   "cell_type": "code",
   "execution_count": null,
   "metadata": {},
   "outputs": [],
   "source": []
  },
  {
   "cell_type": "code",
   "execution_count": null,
   "metadata": {},
   "outputs": [],
   "source": [
    "#Задание 2\n",
    "# Дана переменная, в которой хранится список поисковых запросов пользователя.\n",
    "# Вам необходимо написать программу, которая выведет на экран распределение\n",
    "# количества слов в запросах в требуемом виде.\n"
   ]
  },
  {
   "cell_type": "code",
   "execution_count": null,
   "metadata": {},
   "outputs": [],
   "source": [
    "## Решение:\n",
    "\n",
    "queries = [\n",
    "'смотреть сериалы онлайн',\n",
    "'новости спорта',\n",
    "'афиша кино',\n",
    "'курс доллара',\n",
    "'сериалы этим летом',\n",
    "'курс по питону',\n",
    "'сериалы про спорт',\n",
    "'смотреть кино мультфильмы онлайн',  \n",
    "]\n",
    "my_dict={}         # создаю пустой словарь\n",
    "\n",
    "for q in queries:                 # создаю цикл  \n",
    "    key= len (q.split())                                               # длина одного ключа \n",
    "    my_dict[key]= my_dict.setdefault(key,0)+1                          # возвращаю значение по ключу \n",
    "for key,value in my_dict.items ():                                        # перебор ключей/значений словаря\n",
    "    persent = round (value/sum(my_dict.values())* 100, 2)                     # значения в % \n",
    "    print(f'Число поисковых запросов, содержащих {key} слов(а) {persent} %')    "
   ]
  },
  {
   "cell_type": "code",
   "execution_count": null,
   "metadata": {},
   "outputs": [],
   "source": []
  },
  {
   "cell_type": "code",
   "execution_count": null,
   "metadata": {},
   "outputs": [],
   "source": [
    "Задание 3\n",
    "Дана переменная, в которой хранится информация о затратах и доходе рекламных\n",
    "кампаний по различным источникам. Необходимо дополнить исходную структуру\n",
    "показателем ROI, который рассчитаем по формуле: (revenue / cost - 1) * 100\n",
    "\n",
    "Пример работы программы:\n",
    "\n",
    "results = {\n",
    "‘vk’: {‘revenue’: 103, ‘cost’: 98},\n",
    "‘yandex’: {‘revenue’: 179, ‘cost’: 153},\n",
    "‘facebook’: {‘revenue’: 103, ‘cost’: 110},\n",
    "‘adwords’: {‘revenue’: 35, ‘cost’: 34},\n",
    "‘twitter’: {‘revenue’: 11, ‘cost’: 24},\n",
    "}\n",
    "Результат:\n",
    "\n",
    "{‘adwords’: {‘ROI’: 2.94, ‘cost’: 34, ‘revenue’: 35},\n",
    "‘facebook’: {‘ROI’: -6.36, ‘cost’: 110, ‘revenue’: 103},\n",
    "‘twitter’: {‘ROI’: -54.17, ‘cost’: 24, ‘revenue’: 11},\n",
    "‘vk’: {‘ROI’: 5.1, ‘cost’: 98, ‘revenue’: 103},\n",
    "‘yandex’: {‘ROI’: 16.99, ‘cost’: 153, ‘revenue’: 179}}"
   ]
  },
  {
   "cell_type": "code",
   "execution_count": null,
   "metadata": {},
   "outputs": [],
   "source": [
    "# Решение:\n",
    "results = {\n",
    "'vk': {'revenue': 103, 'cost': 98},\n",
    "'yandex': {'revenue': 179, 'cost': 153},\n",
    "'facebook': {'revenue': 103, 'cost': 110},\n",
    "'adwords': {'revenue': 35, 'cost': 34},\n",
    "'twitter': {'revenue': 11, 'cost': 24},\n",
    "}\n",
    "\n",
    "for i in list(results.values()):                         # цикл по списку значений из словаря\n",
    "    i ['ROI'] = round((i['revenue']/i['cost']-1)*100, 2) # формула расчета ROI\n",
    "print (dict(sorted(results.items()),))                   # печать отсортированного словаря с показателем ROI\n"
   ]
  },
  {
   "cell_type": "code",
   "execution_count": null,
   "metadata": {},
   "outputs": [],
   "source": []
  },
  {
   "cell_type": "code",
   "execution_count": null,
   "metadata": {},
   "outputs": [],
   "source": [
    "#Задание 4\n",
    "# Дана переменная, в которой хранится статистика рекламных каналов по объемам\n",
    "# продаж (пример структуры данных приведен ниже). Напишите программу, \n",
    "# которая возвращает название канала с максимальным объемом продаж.\n",
    "# Пример работы программы:\n",
    "#stats = {‘facebook’: 55, ‘yandex’: 115, ‘vk’: 120, ‘google’: 99, ‘email’: 42, ‘ok’: 98}\n",
    "# Результат: Максимальный объем продаж на рекламном канале: vk"
   ]
  },
  {
   "cell_type": "code",
   "execution_count": null,
   "metadata": {},
   "outputs": [],
   "source": [
    "stats = {'facebook': 55, 'yandex': 115, 'vk': 120, 'google': 99, 'email': 42, 'ok': 98}\n",
    "for key, value in stats.items():  # цикл для ключей и значений данного словаря\n",
    "    max_value=max(stats.values()) # максимальное значение\n",
    "    if value==max_value:          # если значение в словаре явл-ся максимальным    \n",
    "        print(f'Максимальный объем продаж на рекламном канале:{key}') # вывожу его на печать"
   ]
  },
  {
   "cell_type": "code",
   "execution_count": null,
   "metadata": {},
   "outputs": [],
   "source": []
  },
  {
   "cell_type": "code",
   "execution_count": null,
   "metadata": {},
   "outputs": [],
   "source": []
  }
 ],
 "metadata": {
  "kernelspec": {
   "display_name": "Python 3",
   "language": "python",
   "name": "python3"
  },
  "language_info": {
   "codemirror_mode": {
    "name": "ipython",
    "version": 3
   },
   "file_extension": ".py",
   "mimetype": "text/x-python",
   "name": "python",
   "nbconvert_exporter": "python",
   "pygments_lexer": "ipython3",
   "version": "3.8.5"
  }
 },
 "nbformat": 4,
 "nbformat_minor": 4
}
