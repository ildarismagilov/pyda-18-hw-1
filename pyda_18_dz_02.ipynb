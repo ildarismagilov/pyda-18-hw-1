{
 "cells": [
  {
   "cell_type": "code",
   "execution_count": null,
   "metadata": {},
   "outputs": [],
   "source": [
    "# Задача № 1\n",
    "# Имеем слово с неизвестым кол-вом букв,кол-во букв в слове может быть четным или нечетным, длину слова мы можем определить\n",
    "# с помощью len т.о. узнаем четное или нечетное количество букв в произвольном слове"
   ]
  },
  {
   "cell_type": "code",
   "execution_count": null,
   "metadata": {},
   "outputs": [],
   "source": [
    "# Решение:\n",
    "\n",
    "# Применяем несколько раз функцию len,  сначала определяем длину произвольного слова. После разбиения слова на две части,\n",
    "# производим сравнения длин этих частей на различие или на равенство\n",
    "\n",
    "word = input ('')\n",
    "lenth = len(word)\n",
    "print('Результат:')\n",
    "half_1_word  = word [0:lenth//2]       # 1-я часть слова всегда будет как -бы половиной от слова,с четным кол-вом букв\n",
    "half_2_word  = word [lenth//2:]        # 2-я часть слова м.б.частью слова как с четным так и с нечетным кол-вом букв  \n",
    "if len(half_1_word)< len(half_2_word):    # проверка 1 условия: 1-ая часть < 2-ой части (слово с нечетным кол-вом букв)\n",
    "    print(half_2_word [0])                  # печать 1-ой буквы 2-ой части слова (если 1 условие верно)\n",
    "elif len(half_1_word) == len(half_2_word):   # проверка 2 условия: 1-я часть = 2-ой части (слово с четным кол-вом букв)\n",
    "    print(half_1_word [-1] + half_2_word [0])# печать последней буквы 1-ой части и 1-ой буквы 2-ой части (верно 2 условие) \n",
    "    "
   ]
  },
  {
   "cell_type": "code",
   "execution_count": null,
   "metadata": {},
   "outputs": [],
   "source": []
  },
  {
   "cell_type": "code",
   "execution_count": null,
   "metadata": {},
   "outputs": [],
   "source": [
    "# Задача № 2\n",
    "# Напишите программу, которая последовательно запрашивает у пользователя числа (по одному за раз) и после первого нуля\n",
    "# выводит сумму всех ранее введенных чисел.\n"
   ]
  },
  {
   "cell_type": "code",
   "execution_count": null,
   "metadata": {},
   "outputs": [],
   "source": [
    "# Решение:\n",
    "\n",
    "total=0                               \n",
    "while True:                           # условие завершения цикла может стать известно только в середине итерации.                  \n",
    "    num=int(input('Введите число:'))  # ввод произвольного числа\n",
    "    if num==0:                        # если число - 0,\n",
    "        print ('Результат:')         #  то вывод на печать \n",
    "        break                        # прерывание цикла \n",
    "    else: \n",
    "         total += num                # задание произвольных чисел\n",
    "print (total)                        # печать заданных произвольных чисел"
   ]
  },
  {
   "cell_type": "code",
   "execution_count": null,
   "metadata": {},
   "outputs": [],
   "source": []
  },
  {
   "cell_type": "code",
   "execution_count": null,
   "metadata": {},
   "outputs": [],
   "source": [
    "# Задача № 3\n",
    "# Мы делаем MVP dating-сервиса, и у нас есть список парней и девушек.\n",
    "# Выдвигаем гипотезу: лучшие рекомендации мы получим, если просто отсортируем имена по алфавиту и познакомим людей \n",
    "# с одинаковыми индексами после сортировки! Но мы не будем никого знакомить, если кто-то может остаться без пары:\n"
   ]
  },
  {
   "cell_type": "code",
   "execution_count": null,
   "metadata": {},
   "outputs": [],
   "source": [
    "# Решение:\n",
    "\n",
    "boys = ['Peter', 'Alex', 'John', 'Arthur', 'Richard','Michael' ]\n",
    "girls = ['Kate', 'Liza', 'Kira', 'Emma', 'Trisha']\n",
    "sorted (boys), sorted (girls)                            # сортировка списков по алфавиту\n",
    "if len(boys)!= len(girls):                               # если длины списков не совпадают\n",
    "    print (\"Внимание, кто-то может остаться без пары!\")  # печать результата при несовпадении длины списков\n",
    "elif len(boys) == len(girls):                            # если длины списков совпадают\n",
    "    perfect_couple = zip (sorted (boys),sorted(girls))    # \"склеиваю \" списки\n",
    "    print ( 'Идеальные пары:', list (perfect_couple))     # печать идеальных пар в соответствии с условием задачи\n",
    "    "
   ]
  },
  {
   "cell_type": "code",
   "execution_count": null,
   "metadata": {},
   "outputs": [],
   "source": []
  },
  {
   "cell_type": "code",
   "execution_count": null,
   "metadata": {},
   "outputs": [],
   "source": [
    "# Задача № 4\n",
    "# У нас есть список, содержащий информацию о среднедневной температуре в Фаренгейтах за произвольный период по странам \n",
    "# (структура данных в примере). Необходимо написать код, который рассчитает среднюю температуру за период в Цельсиях\n",
    "# для каждой страны.\n"
   ]
  },
  {
   "cell_type": "code",
   "execution_count": null,
   "metadata": {},
   "outputs": [],
   "source": [
    "# Решение:\n",
    "\n",
    "countries_temperature = [\n",
    "    ['Thailand', [75.2, 77, 78.8, 73.4, 68, 75.2, 77]],\n",
    "    ['Germany', [57.2, 55.4, 59, 59, 53.6]],\n",
    "    ['Russia', [35.6, 37.4, 39.2, 41, 42.8, 39.2, 35.6]],\n",
    "    ['Poland', [50, 50, 53.6, 57.2, 55.4, 55.4]]\n",
    "]\n",
    "for country in countries_temperature:   # использую этот цикл т.к. известно конкретное кол-во шагов\n",
    "    summa = sum(country[1])            # # суммирую  по индексу значения температур\n",
    "    average = summa/len(country[1])    # формула средней температуры  \n",
    "    celcius = (average - 32) * 5 / 9   # формула перевода Фаренгейта в Цельсий\n",
    "    print('Результат:')\n",
    "    print(country[0], '-', round(celcius,1), 'С') # вывод на печать средней температуры в Цельсиях по странам"
   ]
  },
  {
   "cell_type": "code",
   "execution_count": null,
   "metadata": {},
   "outputs": [],
   "source": []
  },
  {
   "cell_type": "code",
   "execution_count": null,
   "metadata": {},
   "outputs": [],
   "source": []
  },
  {
   "cell_type": "code",
   "execution_count": null,
   "metadata": {},
   "outputs": [],
   "source": []
  },
  {
   "cell_type": "code",
   "execution_count": null,
   "metadata": {},
   "outputs": [],
   "source": []
  },
  {
   "cell_type": "code",
   "execution_count": null,
   "metadata": {},
   "outputs": [],
   "source": []
  }
 ],
 "metadata": {
  "kernelspec": {
   "display_name": "Python 3",
   "language": "python",
   "name": "python3"
  },
  "language_info": {
   "codemirror_mode": {
    "name": "ipython",
    "version": 3
   },
   "file_extension": ".py",
   "mimetype": "text/x-python",
   "name": "python",
   "nbconvert_exporter": "python",
   "pygments_lexer": "ipython3",
   "version": "3.8.5"
  }
 },
 "nbformat": 4,
 "nbformat_minor": 4
}
